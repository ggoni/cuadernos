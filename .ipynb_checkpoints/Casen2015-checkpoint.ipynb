{
 "cells": [
  {
   "cell_type": "markdown",
   "metadata": {},
   "source": [
    "# Gráfico ingreso autónomo por género, CASEN 2015"
   ]
  },
  {
   "cell_type": "code",
   "execution_count": 1,
   "metadata": {},
   "outputs": [],
   "source": [
    "import sys\n",
    "stdout = sys.stdout\n",
    "reload(sys)\n",
    "sys.setdefaultencoding('utf-8')\n",
    "sys.stdout = stdout\n",
    "\n",
    "import pandas as pd\n",
    "import numpy as np\n",
    "import matplotlib.pyplot as plt\n",
    "from scipy import stats\n",
    "import seaborn as sns"
   ]
  },
  {
   "cell_type": "markdown",
   "metadata": {},
   "source": [
    "Máximo 20 filas, para no desordenar"
   ]
  },
  {
   "cell_type": "code",
   "execution_count": 2,
   "metadata": {},
   "outputs": [],
   "source": [
    "pd.options.display.max_rows = 10"
   ]
  },
  {
   "cell_type": "code",
   "execution_count": 3,
   "metadata": {},
   "outputs": [],
   "source": [
    "def percentilX(series,x):\n",
    "    m=series.quantile(x)\n",
    "    return m"
   ]
  },
  {
   "cell_type": "code",
   "execution_count": 4,
   "metadata": {},
   "outputs": [],
   "source": [
    "#Considera que no puede haber valores negativos\n",
    "def remueve_outlier(df_in, col_name):\n",
    "    q1 = df_in[col_name].quantile(0.25)\n",
    "    q3 = df_in[col_name].quantile(0.75)\n",
    "    iqr = q3-q1 #Interquartile range\n",
    "    piso  = max(q1-2.5*iqr,0)\n",
    "    techo = q3+2.5*iqr\n",
    "    df_out = df_in.loc[(df_in[col_name] > piso) & (df_in[col_name] < techo)]\n",
    "    return df_out"
   ]
  },
  {
   "cell_type": "code",
   "execution_count": 5,
   "metadata": {},
   "outputs": [],
   "source": [
    "casen=pd.read_stata('/Users/ggoni/Google Drive/Casen 2015.dta',encoding='latin-1')"
   ]
  },
  {
   "cell_type": "code",
   "execution_count": 6,
   "metadata": {},
   "outputs": [
    {
     "data": {
      "text/html": [
       "<div>\n",
       "<style scoped>\n",
       "    .dataframe tbody tr th:only-of-type {\n",
       "        vertical-align: middle;\n",
       "    }\n",
       "\n",
       "    .dataframe tbody tr th {\n",
       "        vertical-align: top;\n",
       "    }\n",
       "\n",
       "    .dataframe thead th {\n",
       "        text-align: right;\n",
       "    }\n",
       "</style>\n",
       "<table border=\"1\" class=\"dataframe\">\n",
       "  <thead>\n",
       "    <tr style=\"text-align: right;\">\n",
       "      <th></th>\n",
       "      <th>folio</th>\n",
       "      <th>o</th>\n",
       "      <th>id_vivienda</th>\n",
       "      <th>region</th>\n",
       "      <th>provincia</th>\n",
       "      <th>comuna</th>\n",
       "      <th>zona</th>\n",
       "      <th>hogar</th>\n",
       "      <th>tot_hog</th>\n",
       "      <th>tot_par</th>\n",
       "      <th>...</th>\n",
       "      <th>hh_d_estado</th>\n",
       "      <th>hh_d_servbas</th>\n",
       "      <th>hh_d_entorno</th>\n",
       "      <th>hh_d_accesi</th>\n",
       "      <th>hh_d_medio</th>\n",
       "      <th>hh_d_appart</th>\n",
       "      <th>hh_d_tsocial</th>\n",
       "      <th>hh_d_seg</th>\n",
       "      <th>pobreza_multi_4d</th>\n",
       "      <th>pobreza_multi_5d</th>\n",
       "    </tr>\n",
       "  </thead>\n",
       "  <tbody>\n",
       "    <tr>\n",
       "      <th>0</th>\n",
       "      <td>1.101100e+10</td>\n",
       "      <td>1</td>\n",
       "      <td>1.101100e+09</td>\n",
       "      <td>región de tarapacá</td>\n",
       "      <td>iquique</td>\n",
       "      <td>iquique</td>\n",
       "      <td>urbano</td>\n",
       "      <td>1</td>\n",
       "      <td>1</td>\n",
       "      <td>1</td>\n",
       "      <td>...</td>\n",
       "      <td>0.0</td>\n",
       "      <td>0.0</td>\n",
       "      <td>0.0</td>\n",
       "      <td>0.0</td>\n",
       "      <td>0.0</td>\n",
       "      <td>0.0</td>\n",
       "      <td>0.0</td>\n",
       "      <td>1.0</td>\n",
       "      <td>no pobre</td>\n",
       "      <td>no pobre</td>\n",
       "    </tr>\n",
       "    <tr>\n",
       "      <th>1</th>\n",
       "      <td>1.101100e+10</td>\n",
       "      <td>2</td>\n",
       "      <td>1.101100e+09</td>\n",
       "      <td>región de tarapacá</td>\n",
       "      <td>iquique</td>\n",
       "      <td>iquique</td>\n",
       "      <td>urbano</td>\n",
       "      <td>1</td>\n",
       "      <td>1</td>\n",
       "      <td>1</td>\n",
       "      <td>...</td>\n",
       "      <td>0.0</td>\n",
       "      <td>0.0</td>\n",
       "      <td>0.0</td>\n",
       "      <td>0.0</td>\n",
       "      <td>0.0</td>\n",
       "      <td>0.0</td>\n",
       "      <td>0.0</td>\n",
       "      <td>1.0</td>\n",
       "      <td>no pobre</td>\n",
       "      <td>no pobre</td>\n",
       "    </tr>\n",
       "    <tr>\n",
       "      <th>2</th>\n",
       "      <td>1.101100e+10</td>\n",
       "      <td>3</td>\n",
       "      <td>1.101100e+09</td>\n",
       "      <td>región de tarapacá</td>\n",
       "      <td>iquique</td>\n",
       "      <td>iquique</td>\n",
       "      <td>urbano</td>\n",
       "      <td>1</td>\n",
       "      <td>1</td>\n",
       "      <td>1</td>\n",
       "      <td>...</td>\n",
       "      <td>0.0</td>\n",
       "      <td>0.0</td>\n",
       "      <td>0.0</td>\n",
       "      <td>0.0</td>\n",
       "      <td>0.0</td>\n",
       "      <td>0.0</td>\n",
       "      <td>0.0</td>\n",
       "      <td>1.0</td>\n",
       "      <td>no pobre</td>\n",
       "      <td>no pobre</td>\n",
       "    </tr>\n",
       "  </tbody>\n",
       "</table>\n",
       "<p>3 rows × 776 columns</p>\n",
       "</div>"
      ],
      "text/plain": [
       "          folio  o   id_vivienda              region provincia   comuna  \\\n",
       "0  1.101100e+10  1  1.101100e+09  región de tarapacá   iquique  iquique   \n",
       "1  1.101100e+10  2  1.101100e+09  región de tarapacá   iquique  iquique   \n",
       "2  1.101100e+10  3  1.101100e+09  región de tarapacá   iquique  iquique   \n",
       "\n",
       "     zona  hogar  tot_hog  tot_par        ...         hh_d_estado  \\\n",
       "0  urbano      1        1        1        ...                 0.0   \n",
       "1  urbano      1        1        1        ...                 0.0   \n",
       "2  urbano      1        1        1        ...                 0.0   \n",
       "\n",
       "   hh_d_servbas hh_d_entorno hh_d_accesi hh_d_medio hh_d_appart  hh_d_tsocial  \\\n",
       "0           0.0          0.0         0.0        0.0         0.0           0.0   \n",
       "1           0.0          0.0         0.0        0.0         0.0           0.0   \n",
       "2           0.0          0.0         0.0        0.0         0.0           0.0   \n",
       "\n",
       "  hh_d_seg  pobreza_multi_4d  pobreza_multi_5d  \n",
       "0      1.0          no pobre          no pobre  \n",
       "1      1.0          no pobre          no pobre  \n",
       "2      1.0          no pobre          no pobre  \n",
       "\n",
       "[3 rows x 776 columns]"
      ]
     },
     "execution_count": 6,
     "metadata": {},
     "output_type": "execute_result"
    }
   ],
   "source": [
    "casen.head(3)"
   ]
  },
  {
   "cell_type": "code",
   "execution_count": 7,
   "metadata": {},
   "outputs": [
    {
     "data": {
      "text/html": [
       "<div>\n",
       "<style scoped>\n",
       "    .dataframe tbody tr th:only-of-type {\n",
       "        vertical-align: middle;\n",
       "    }\n",
       "\n",
       "    .dataframe tbody tr th {\n",
       "        vertical-align: top;\n",
       "    }\n",
       "\n",
       "    .dataframe thead th {\n",
       "        text-align: right;\n",
       "    }\n",
       "</style>\n",
       "<table border=\"1\" class=\"dataframe\">\n",
       "  <thead>\n",
       "    <tr style=\"text-align: right;\">\n",
       "      <th></th>\n",
       "      <th>yaut</th>\n",
       "      <th>r22</th>\n",
       "      <th>e6a</th>\n",
       "    </tr>\n",
       "  </thead>\n",
       "  <tbody>\n",
       "    <tr>\n",
       "      <th>0</th>\n",
       "      <td>True</td>\n",
       "      <td>False</td>\n",
       "      <td>False</td>\n",
       "    </tr>\n",
       "    <tr>\n",
       "      <th>1</th>\n",
       "      <td>True</td>\n",
       "      <td>True</td>\n",
       "      <td>False</td>\n",
       "    </tr>\n",
       "    <tr>\n",
       "      <th>2</th>\n",
       "      <td>True</td>\n",
       "      <td>True</td>\n",
       "      <td>False</td>\n",
       "    </tr>\n",
       "    <tr>\n",
       "      <th>3</th>\n",
       "      <td>True</td>\n",
       "      <td>True</td>\n",
       "      <td>False</td>\n",
       "    </tr>\n",
       "    <tr>\n",
       "      <th>4</th>\n",
       "      <td>True</td>\n",
       "      <td>True</td>\n",
       "      <td>False</td>\n",
       "    </tr>\n",
       "    <tr>\n",
       "      <th>...</th>\n",
       "      <td>...</td>\n",
       "      <td>...</td>\n",
       "      <td>...</td>\n",
       "    </tr>\n",
       "    <tr>\n",
       "      <th>266963</th>\n",
       "      <td>False</td>\n",
       "      <td>False</td>\n",
       "      <td>False</td>\n",
       "    </tr>\n",
       "    <tr>\n",
       "      <th>266964</th>\n",
       "      <td>False</td>\n",
       "      <td>False</td>\n",
       "      <td>False</td>\n",
       "    </tr>\n",
       "    <tr>\n",
       "      <th>266965</th>\n",
       "      <td>True</td>\n",
       "      <td>True</td>\n",
       "      <td>False</td>\n",
       "    </tr>\n",
       "    <tr>\n",
       "      <th>266966</th>\n",
       "      <td>True</td>\n",
       "      <td>True</td>\n",
       "      <td>False</td>\n",
       "    </tr>\n",
       "    <tr>\n",
       "      <th>266967</th>\n",
       "      <td>True</td>\n",
       "      <td>True</td>\n",
       "      <td>False</td>\n",
       "    </tr>\n",
       "  </tbody>\n",
       "</table>\n",
       "<p>266968 rows × 3 columns</p>\n",
       "</div>"
      ],
      "text/plain": [
       "         yaut    r22    e6a\n",
       "0        True  False  False\n",
       "1        True   True  False\n",
       "2        True   True  False\n",
       "3        True   True  False\n",
       "4        True   True  False\n",
       "...       ...    ...    ...\n",
       "266963  False  False  False\n",
       "266964  False  False  False\n",
       "266965   True   True  False\n",
       "266966   True   True  False\n",
       "266967   True   True  False\n",
       "\n",
       "[266968 rows x 3 columns]"
      ]
     },
     "execution_count": 7,
     "metadata": {},
     "output_type": "execute_result"
    }
   ],
   "source": [
    "df=casen[['yaut','r22','e6a']]\n",
    "len(df)\n",
    "a=df.isnull()\n",
    "a"
   ]
  },
  {
   "cell_type": "code",
   "execution_count": 8,
   "metadata": {},
   "outputs": [
    {
     "data": {
      "text/plain": [
       "78882"
      ]
     },
     "execution_count": 8,
     "metadata": {},
     "output_type": "execute_result"
    }
   ],
   "source": [
    "df2=df.dropna(axis=0, how='any')\n",
    "len(df2)"
   ]
  },
  {
   "cell_type": "code",
   "execution_count": 9,
   "metadata": {},
   "outputs": [
    {
     "data": {
      "text/plain": [
       "femenino             44360\n",
       "masculino            34479\n",
       "otro. especifique       37\n",
       "sin dato                 6\n",
       "Name: r22, dtype: int64"
      ]
     },
     "execution_count": 9,
     "metadata": {},
     "output_type": "execute_result"
    }
   ],
   "source": [
    "df2.r22.value_counts()"
   ]
  },
  {
   "cell_type": "code",
   "execution_count": 10,
   "metadata": {},
   "outputs": [
    {
     "data": {
      "text/plain": [
       "False    78882\n",
       "Name: yaut, dtype: int64"
      ]
     },
     "execution_count": 10,
     "metadata": {},
     "output_type": "execute_result"
    }
   ],
   "source": [
    "df2.yaut.isnull().value_counts()"
   ]
  },
  {
   "cell_type": "code",
   "execution_count": 11,
   "metadata": {},
   "outputs": [
    {
     "data": {
      "text/plain": [
       "educación básica                                69496\n",
       "educación media científico-humanista            67948\n",
       "educación media técnica profesional             21299\n",
       "profesional completo (carreras 4 ó más años)    17225\n",
       "primaria o preparatoria (sistema antiguo)       16624\n",
       "                                                ...  \n",
       "postgrado completo                               1582\n",
       "sala cuna                                        1278\n",
       "educación especial (diferencial)                 1195\n",
       "postgrado incompleto                              617\n",
       "sin dato                                          153\n",
       "Name: e6a, Length: 18, dtype: int64"
      ]
     },
     "execution_count": 11,
     "metadata": {},
     "output_type": "execute_result"
    }
   ],
   "source": [
    "df.e6a.value_counts()"
   ]
  },
  {
   "cell_type": "code",
   "execution_count": 12,
   "metadata": {},
   "outputs": [
    {
     "data": {
      "text/plain": [
       "0                   educación media científico-humanista\n",
       "1                          humanidades (sistema antiguo)\n",
       "2         profesional incompleto (carreras 4 ó más años)\n",
       "3         profesional incompleto (carreras 4 ó más años)\n",
       "4         profesional incompleto (carreras 4 ó más años)\n",
       "                               ...                      \n",
       "266963                                     nunca asistió\n",
       "266964              educación media científico-humanista\n",
       "266965                                  educación básica\n",
       "266966                                     nunca asistió\n",
       "266967                                     nunca asistió\n",
       "Name: e6a, Length: 266968, dtype: category\n",
       "Categories (18, object): [nunca asistió < sala cuna < jardín infantil (medio menor y medio mayor) < prekinder / kinder (transición menor y transic... ... profesional completo (carreras 4 ó más años) < postgrado incompleto < postgrado completo < sin dato]"
      ]
     },
     "execution_count": 12,
     "metadata": {},
     "output_type": "execute_result"
    }
   ],
   "source": [
    "df.e6a"
   ]
  },
  {
   "cell_type": "code",
   "execution_count": 13,
   "metadata": {},
   "outputs": [],
   "source": [
    "df2.columns=['ingresoAutonomoMensual','Genero','nivelEducacional']"
   ]
  },
  {
   "cell_type": "code",
   "execution_count": 14,
   "metadata": {},
   "outputs": [],
   "source": [
    "#Filtra solo hombres y mujeres\n",
    "df2=df2.loc[(df2.Genero=='masculino')| (df2.Genero=='femenino')]\n",
    "#Excluye los \"no sabe / no contesta\" en género"
   ]
  },
  {
   "cell_type": "markdown",
   "metadata": {},
   "source": [
    "Dada la distribución, se usara Log(Ingreso)."
   ]
  },
  {
   "cell_type": "code",
   "execution_count": 15,
   "metadata": {},
   "outputs": [
    {
     "data": {
      "text/html": [
       "<div>\n",
       "<style scoped>\n",
       "    .dataframe tbody tr th:only-of-type {\n",
       "        vertical-align: middle;\n",
       "    }\n",
       "\n",
       "    .dataframe tbody tr th {\n",
       "        vertical-align: top;\n",
       "    }\n",
       "\n",
       "    .dataframe thead th {\n",
       "        text-align: right;\n",
       "    }\n",
       "</style>\n",
       "<table border=\"1\" class=\"dataframe\">\n",
       "  <thead>\n",
       "    <tr style=\"text-align: right;\">\n",
       "      <th></th>\n",
       "      <th>ingresoAutonomoMensual</th>\n",
       "      <th>Genero</th>\n",
       "      <th>nivelEducacional</th>\n",
       "      <th>logIngresoAutonomoMensual</th>\n",
       "    </tr>\n",
       "  </thead>\n",
       "  <tbody>\n",
       "    <tr>\n",
       "      <th>5</th>\n",
       "      <td>320000.0</td>\n",
       "      <td>masculino</td>\n",
       "      <td>educación media científico-humanista</td>\n",
       "      <td>12.676076</td>\n",
       "    </tr>\n",
       "    <tr>\n",
       "      <th>6</th>\n",
       "      <td>400000.0</td>\n",
       "      <td>masculino</td>\n",
       "      <td>educación media científico-humanista</td>\n",
       "      <td>12.899220</td>\n",
       "    </tr>\n",
       "    <tr>\n",
       "      <th>7</th>\n",
       "      <td>375000.0</td>\n",
       "      <td>masculino</td>\n",
       "      <td>educación media científico-humanista</td>\n",
       "      <td>12.834681</td>\n",
       "    </tr>\n",
       "    <tr>\n",
       "      <th>9</th>\n",
       "      <td>500000.0</td>\n",
       "      <td>femenino</td>\n",
       "      <td>educación básica</td>\n",
       "      <td>13.122363</td>\n",
       "    </tr>\n",
       "    <tr>\n",
       "      <th>16</th>\n",
       "      <td>400000.0</td>\n",
       "      <td>femenino</td>\n",
       "      <td>educación básica</td>\n",
       "      <td>12.899220</td>\n",
       "    </tr>\n",
       "  </tbody>\n",
       "</table>\n",
       "</div>"
      ],
      "text/plain": [
       "    ingresoAutonomoMensual     Genero                      nivelEducacional  \\\n",
       "5                 320000.0  masculino  educación media científico-humanista   \n",
       "6                 400000.0  masculino  educación media científico-humanista   \n",
       "7                 375000.0  masculino  educación media científico-humanista   \n",
       "9                 500000.0   femenino                      educación básica   \n",
       "16                400000.0   femenino                      educación básica   \n",
       "\n",
       "    logIngresoAutonomoMensual  \n",
       "5                   12.676076  \n",
       "6                   12.899220  \n",
       "7                   12.834681  \n",
       "9                   13.122363  \n",
       "16                  12.899220  "
      ]
     },
     "execution_count": 15,
     "metadata": {},
     "output_type": "execute_result"
    }
   ],
   "source": [
    "df_filtrado=df2.loc[(df2.Genero.isnull()==False),]\n",
    "df_filtrado['logIngresoAutonomoMensual']=np.log(df_filtrado.ingresoAutonomoMensual)\n",
    "df_filtrado.head()"
   ]
  },
  {
   "cell_type": "code",
   "execution_count": 16,
   "metadata": {},
   "outputs": [],
   "source": [
    "logSueldoHombres=df_filtrado.loc[df_filtrado.Genero=='masculino',('logIngresoAutonomoMensual')]\n",
    "logSueldoMujeres=df_filtrado.loc[df_filtrado.Genero=='femenino',('logIngresoAutonomoMensual')]\n"
   ]
  },
  {
   "cell_type": "code",
   "execution_count": 17,
   "metadata": {},
   "outputs": [
    {
     "data": {
      "image/png": "[encoded data removed]",
      "text/plain": [
       "<matplotlib.figure.Figure at 0x1a5e40df50>"
      ]
     },
     "metadata": {},
     "output_type": "display_data"
    }
   ],
   "source": [
    "plt.hist(x=logSueldoHombres,bins=50,color='#0099FF',alpha=0.8,normed=True,\n",
    "         cumulative=False)\n",
    "plt.hist(x=logSueldoMujeres,bins=50,color='pink',alpha=0.4,normed=True,\n",
    "         cumulative=False)\n",
    "plt.title('Histograma de Log ingreso autónomo mensual por género, CASEN 2015')\n",
    "plt.legend(['Hombres','Mujeres'])\n",
    "plt.show()"
   ]
  },
  {
   "cell_type": "code",
   "execution_count": 18,
   "metadata": {},
   "outputs": [
    {
     "data": {
      "text/plain": [
       "Ks_2sampResult(statistic=0.22665668594396182, pvalue=0.0)"
      ]
     },
     "execution_count": 18,
     "metadata": {},
     "output_type": "execute_result"
    }
   ],
   "source": [
    "# Test de Anderson Darling para comprobar si sueldo de Hombres y mujeres tiene la misma distribución\n",
    "stats.ks_2samp(logSueldoHombres, logSueldoMujeres)"
   ]
  },
  {
   "cell_type": "markdown",
   "metadata": {},
   "source": [
    "Se rechaza la hipótesis nula, es decir, ** no hay evidencia que indique que hombres y mujeres estén ganando el mismo ingreso autónomo**"
   ]
  },
  {
   "cell_type": "markdown",
   "metadata": {},
   "source": [
    "Esto se refuerza al observar la mediana del ingreso autónomo por máximo nivel de educación formal alcanzado:"
   ]
  },
  {
   "cell_type": "code",
   "execution_count": 19,
   "metadata": {},
   "outputs": [
    {
     "data": {
      "text/plain": [
       "Index([u'ingresoAutonomoMensual', u'Genero', u'nivelEducacional'], dtype='object')"
      ]
     },
     "execution_count": 19,
     "metadata": {},
     "output_type": "execute_result"
    }
   ],
   "source": [
    "df2.columns"
   ]
  },
  {
   "cell_type": "code",
   "execution_count": 20,
   "metadata": {},
   "outputs": [],
   "source": [
    "df3=pd.DataFrame(df2.groupby(['nivelEducacional','Genero'])['ingresoAutonomoMensual'].\\\n",
    "                 agg({'Mediana en $ del ingreso autónomo mensual según Género y \\\n",
    "                      Nivel Educacional, CASEN 2015':'median'})).unstack().round(0)\n",
    "\n"
   ]
  },
  {
   "cell_type": "code",
   "execution_count": 21,
   "metadata": {},
   "outputs": [],
   "source": [
    "pd.options.display.max_rows = 20"
   ]
  },
  {
   "cell_type": "code",
   "execution_count": 22,
   "metadata": {},
   "outputs": [
    {
     "data": {
      "text/html": [
       "<div>\n",
       "<style scoped>\n",
       "    .dataframe tbody tr th:only-of-type {\n",
       "        vertical-align: middle;\n",
       "    }\n",
       "\n",
       "    .dataframe tbody tr th {\n",
       "        vertical-align: top;\n",
       "    }\n",
       "\n",
       "    .dataframe thead tr th {\n",
       "        text-align: left;\n",
       "    }\n",
       "\n",
       "    .dataframe thead tr:last-of-type th {\n",
       "        text-align: right;\n",
       "    }\n",
       "</style>\n",
       "<table border=\"1\" class=\"dataframe\">\n",
       "  <thead>\n",
       "    <tr>\n",
       "      <th></th>\n",
       "      <th colspan=\"2\" halign=\"left\">Mediana en $ del ingreso autónomo mensual según Género y                       Nivel Educacional, CASEN 2015</th>\n",
       "    </tr>\n",
       "    <tr>\n",
       "      <th>Genero</th>\n",
       "      <th>masculino</th>\n",
       "      <th>femenino</th>\n",
       "    </tr>\n",
       "    <tr>\n",
       "      <th>nivelEducacional</th>\n",
       "      <th></th>\n",
       "      <th></th>\n",
       "    </tr>\n",
       "  </thead>\n",
       "  <tbody>\n",
       "    <tr>\n",
       "      <th>nunca asistió</th>\n",
       "      <td>160084.0</td>\n",
       "      <td>129000.0</td>\n",
       "    </tr>\n",
       "    <tr>\n",
       "      <th>educación especial (diferencial)</th>\n",
       "      <td>240000.0</td>\n",
       "      <td>124500.0</td>\n",
       "    </tr>\n",
       "    <tr>\n",
       "      <th>primaria o preparatoria (sistema antiguo)</th>\n",
       "      <td>171630.0</td>\n",
       "      <td>144000.0</td>\n",
       "    </tr>\n",
       "    <tr>\n",
       "      <th>educación básica</th>\n",
       "      <td>260000.0</td>\n",
       "      <td>150000.0</td>\n",
       "    </tr>\n",
       "    <tr>\n",
       "      <th>humanidades (sistema antiguo)</th>\n",
       "      <td>250000.0</td>\n",
       "      <td>176800.0</td>\n",
       "    </tr>\n",
       "    <tr>\n",
       "      <th>educación media científico-humanista</th>\n",
       "      <td>355917.0</td>\n",
       "      <td>240000.0</td>\n",
       "    </tr>\n",
       "    <tr>\n",
       "      <th>técnica, comercial, industrial o normalista (sistema antiguo</th>\n",
       "      <td>362167.0</td>\n",
       "      <td>220000.0</td>\n",
       "    </tr>\n",
       "    <tr>\n",
       "      <th>educación media técnica profesional</th>\n",
       "      <td>400000.0</td>\n",
       "      <td>257916.0</td>\n",
       "    </tr>\n",
       "    <tr>\n",
       "      <th>técnico nivel superior incompleto (carreras 1 a 3 años)</th>\n",
       "      <td>400000.0</td>\n",
       "      <td>275250.0</td>\n",
       "    </tr>\n",
       "    <tr>\n",
       "      <th>técnico nivel superior completo (carreras 1 a 3 años)</th>\n",
       "      <td>593333.0</td>\n",
       "      <td>400000.0</td>\n",
       "    </tr>\n",
       "    <tr>\n",
       "      <th>profesional incompleto (carreras 4 ó más años)</th>\n",
       "      <td>450000.0</td>\n",
       "      <td>281916.0</td>\n",
       "    </tr>\n",
       "    <tr>\n",
       "      <th>profesional completo (carreras 4 ó más años)</th>\n",
       "      <td>1000000.0</td>\n",
       "      <td>662084.0</td>\n",
       "    </tr>\n",
       "    <tr>\n",
       "      <th>postgrado incompleto</th>\n",
       "      <td>1431667.0</td>\n",
       "      <td>874916.0</td>\n",
       "    </tr>\n",
       "    <tr>\n",
       "      <th>postgrado completo</th>\n",
       "      <td>2000000.0</td>\n",
       "      <td>1212500.0</td>\n",
       "    </tr>\n",
       "    <tr>\n",
       "      <th>sin dato</th>\n",
       "      <td>334584.0</td>\n",
       "      <td>241125.0</td>\n",
       "    </tr>\n",
       "  </tbody>\n",
       "</table>\n",
       "</div>"
      ],
      "text/plain": [
       "                                                   Mediana en $ del ingreso autónomo mensual según Género y                       Nivel Educacional, CASEN 2015  \\\n",
       "Genero                                                                                                                                                masculino   \n",
       "nivelEducacional                                                                                                                                                  \n",
       "nunca asistió                                                                                160084.0                                                             \n",
       "educación especial (diferencial)                                                             240000.0                                                             \n",
       "primaria o preparatoria (sistema antiguo)                                                    171630.0                                                             \n",
       "educación básica                                                                             260000.0                                                             \n",
       "humanidades (sistema antiguo)                                                                250000.0                                                             \n",
       "educación media científico-humanista                                                         355917.0                                                             \n",
       "técnica, comercial, industrial o normalista (si...                                           362167.0                                                             \n",
       "educación media técnica profesional                                                          400000.0                                                             \n",
       "técnico nivel superior incompleto (carreras 1 a...                                           400000.0                                                             \n",
       "técnico nivel superior completo (carreras 1 a 3...                                           593333.0                                                             \n",
       "profesional incompleto (carreras 4 ó más años)                                               450000.0                                                             \n",
       "profesional completo (carreras 4 ó más años)                                                1000000.0                                                             \n",
       "postgrado incompleto                                                                        1431667.0                                                             \n",
       "postgrado completo                                                                          2000000.0                                                             \n",
       "sin dato                                                                                     334584.0                                                             \n",
       "\n",
       "                                                               \n",
       "Genero                                               femenino  \n",
       "nivelEducacional                                               \n",
       "nunca asistió                                        129000.0  \n",
       "educación especial (diferencial)                     124500.0  \n",
       "primaria o preparatoria (sistema antiguo)            144000.0  \n",
       "educación básica                                     150000.0  \n",
       "humanidades (sistema antiguo)                        176800.0  \n",
       "educación media científico-humanista                 240000.0  \n",
       "técnica, comercial, industrial o normalista (si...   220000.0  \n",
       "educación media técnica profesional                  257916.0  \n",
       "técnico nivel superior incompleto (carreras 1 a...   275250.0  \n",
       "técnico nivel superior completo (carreras 1 a 3...   400000.0  \n",
       "profesional incompleto (carreras 4 ó más años)       281916.0  \n",
       "profesional completo (carreras 4 ó más años)         662084.0  \n",
       "postgrado incompleto                                 874916.0  \n",
       "postgrado completo                                  1212500.0  \n",
       "sin dato                                             241125.0  "
      ]
     },
     "execution_count": 22,
     "metadata": {},
     "output_type": "execute_result"
    }
   ],
   "source": [
    "df3"
   ]
  },
  {
   "cell_type": "code",
   "execution_count": null,
   "metadata": {},
   "outputs": [],
   "source": []
  }
 ],
 "metadata": {
  "anaconda-cloud": {},
  "kernelspec": {
   "display_name": "Python 2",
   "language": "python",
   "name": "python2"
  },
  "language_info": {
   "codemirror_mode": {
    "name": "ipython",
    "version": 2
   },
   "file_extension": ".py",
   "mimetype": "text/x-python",
   "name": "python",
   "nbconvert_exporter": "python",
   "pygments_lexer": "ipython2",
   "version": "2.7.14"
  }
 },
 "nbformat": 4,
 "nbformat_minor": 1
}
